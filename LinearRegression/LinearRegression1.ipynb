{
 "cells": [
  {
   "cell_type": "code",
   "execution_count": 1,
   "metadata": {},
   "outputs": [],
   "source": [
    "import pandas as pd\n",
    "import numpy as np\n",
    "import matplotlib.pyplot as plt"
   ]
  },
  {
   "cell_type": "code",
   "execution_count": 71,
   "metadata": {},
   "outputs": [
    {
     "name": "stdout",
     "output_type": "stream",
     "text": [
      "          0         1\n",
      "0    6.1101  17.59200\n",
      "1    5.5277   9.13020\n",
      "2    8.5186  13.66200\n",
      "3    7.0032  11.85400\n",
      "4    5.8598   6.82330\n",
      "..      ...       ...\n",
      "92   5.8707   7.20290\n",
      "93   5.3054   1.98690\n",
      "94   8.2934   0.14454\n",
      "95  13.3940   9.05510\n",
      "96   5.4369   0.61705\n",
      "\n",
      "[97 rows x 2 columns]\n"
     ]
    }
   ],
   "source": [
    "data = pd.read_table(\"ex1data1.txt\", header=None, sep=\",\")\n",
    "\n",
    "print(data)"
   ]
  },
  {
   "cell_type": "code",
   "execution_count": 82,
   "metadata": {},
   "outputs": [
    {
     "data": {
      "image/png": "[encoded data removed]",
      "text/plain": [
       "<Figure size 432x288 with 1 Axes>"
      ]
     },
     "metadata": {
      "needs_background": "light"
     },
     "output_type": "display_data"
    }
   ],
   "source": [
    "source = data.copy(deep=True)  # 深拷贝，保留一份原数据\n",
    "\n",
    "x = data.iloc[:, 0]  # population\n",
    "profit = data.iloc[:, 1]\n",
    "\n",
    "plt.scatter(x, profit)\n",
    "\n",
    "plt.show()"
   ]
  },
  {
   "cell_type": "markdown",
   "metadata": {},
   "source": [
    "### 为每个样本都添加 X~0~=1 一项"
   ]
  },
  {
   "cell_type": "code",
   "execution_count": 84,
   "metadata": {},
   "outputs": [
    {
     "name": "stdout",
     "output_type": "stream",
     "text": [
      "    x0  population\n",
      "0    1      6.1101\n",
      "1    1      5.5277\n",
      "2    1      8.5186\n",
      "3    1      7.0032\n",
      "4    1      5.8598\n",
      "..  ..         ...\n",
      "92   1      5.8707\n",
      "93   1      5.3054\n",
      "94   1      8.2934\n",
      "95   1     13.3940\n",
      "96   1      5.4369\n",
      "\n",
      "[97 rows x 2 columns]\n",
      "\n"
     ]
    }
   ],
   "source": [
    "m = 97  # m 是样本数\n",
    "\n",
    "feature_names = ['x0', 'population']\n",
    "x0 = pd.DataFrame(np.array([1] * m), columns=[feature_names[0]])\n",
    "x = x0.assign(population = x)\n",
    "\n",
    "# x['x0'] = x0\n",
    "\n",
    "print(x, end=\"\\n\\n\")"
   ]
  },
  {
   "cell_type": "markdown",
   "metadata": {},
   "source": [
    "### 设置 θ 初始值"
   ]
  },
  {
   "cell_type": "code",
   "execution_count": 74,
   "metadata": {},
   "outputs": [
    {
     "name": "stdout",
     "output_type": "stream",
     "text": [
      "θ 初始值\n",
      "[[0.]\n",
      " [0.]]\n"
     ]
    }
   ],
   "source": [
    "theta = np.zeros(2).reshape(2, 1)\n",
    "iterations = 1500\n",
    "alpha = 0.01\n",
    "\n",
    "print(\"θ 初始值\")\n",
    "print(theta)"
   ]
  },
  {
   "cell_type": "markdown",
   "metadata": {},
   "source": [
    "## h(x)"
   ]
  },
  {
   "cell_type": "code",
   "execution_count": 75,
   "metadata": {
    "scrolled": true
   },
   "outputs": [
    {
     "name": "stdout",
     "output_type": "stream",
     "text": [
      "[[0.]\n",
      " [0.]\n",
      " [0.]\n",
      " [0.]\n",
      " [0.]\n",
      " [0.]\n",
      " [0.]\n",
      " [0.]\n",
      " [0.]\n",
      " [0.]\n",
      " [0.]\n",
      " [0.]\n",
      " [0.]\n",
      " [0.]\n",
      " [0.]\n",
      " [0.]\n",
      " [0.]\n",
      " [0.]\n",
      " [0.]\n",
      " [0.]\n",
      " [0.]\n",
      " [0.]\n",
      " [0.]\n",
      " [0.]\n",
      " [0.]\n",
      " [0.]\n",
      " [0.]\n",
      " [0.]\n",
      " [0.]\n",
      " [0.]\n",
      " [0.]\n",
      " [0.]\n",
      " [0.]\n",
      " [0.]\n",
      " [0.]\n",
      " [0.]\n",
      " [0.]\n",
      " [0.]\n",
      " [0.]\n",
      " [0.]\n",
      " [0.]\n",
      " [0.]\n",
      " [0.]\n",
      " [0.]\n",
      " [0.]\n",
      " [0.]\n",
      " [0.]\n",
      " [0.]\n",
      " [0.]\n",
      " [0.]\n",
      " [0.]\n",
      " [0.]\n",
      " [0.]\n",
      " [0.]\n",
      " [0.]\n",
      " [0.]\n",
      " [0.]\n",
      " [0.]\n",
      " [0.]\n",
      " [0.]\n",
      " [0.]\n",
      " [0.]\n",
      " [0.]\n",
      " [0.]\n",
      " [0.]\n",
      " [0.]\n",
      " [0.]\n",
      " [0.]\n",
      " [0.]\n",
      " [0.]\n",
      " [0.]\n",
      " [0.]\n",
      " [0.]\n",
      " [0.]\n",
      " [0.]\n",
      " [0.]\n",
      " [0.]\n",
      " [0.]\n",
      " [0.]\n",
      " [0.]\n",
      " [0.]\n",
      " [0.]\n",
      " [0.]\n",
      " [0.]\n",
      " [0.]\n",
      " [0.]\n",
      " [0.]\n",
      " [0.]\n",
      " [0.]\n",
      " [0.]\n",
      " [0.]\n",
      " [0.]\n",
      " [0.]\n",
      " [0.]\n",
      " [0.]\n",
      " [0.]\n",
      " [0.]]\n",
      "\n"
     ]
    }
   ],
   "source": [
    "def h_function(x, theta):\n",
    "    return np.dot(x, theta)\n",
    "\n",
    "\n",
    "\n",
    "h = h_function(x, theta)\n",
    "\n",
    "print(h, end=\"\\n\\n\")"
   ]
  },
  {
   "cell_type": "markdown",
   "metadata": {},
   "source": [
    "## 代价函数 J(θ)"
   ]
  },
  {
   "cell_type": "code",
   "execution_count": 76,
   "metadata": {
    "scrolled": true
   },
   "outputs": [
    {
     "name": "stdout",
     "output_type": "stream",
     "text": [
      "[32.07273388]\n"
     ]
    }
   ],
   "source": [
    "# h 目前由于两个参数全为 0 ，所以 h 全为 0\n",
    "# y 即为实际结果\n",
    "# 设 present as p\n",
    "\n",
    "\n",
    "def cost(hypothesis, y, sample_amount):\n",
    "    diff_square = np.power(hypothesis-y, 2)\n",
    "    sumup = np.sum(diff_square, axis=0)\n",
    "    return np.true_divide(sumup, 2*sample_amount)\n",
    "\n",
    "\n",
    "y = profit.to_numpy().reshape(97, 1)\n",
    "\n",
    "J = cost(h, y, m)\n",
    "\n",
    "print(J)"
   ]
  },
  {
   "cell_type": "markdown",
   "metadata": {},
   "source": [
    "## 梯度下降算法"
   ]
  },
  {
   "cell_type": "code",
   "execution_count": 77,
   "metadata": {},
   "outputs": [
    {
     "name": "stdout",
     "output_type": "stream",
     "text": [
      "[[0.05839135]\n",
      " [0.6532885 ]]\n",
      "\n"
     ]
    }
   ],
   "source": [
    "# theta : θ，代价函数 J 的自变量，是一个向量，θ 与 x 一一对应，每个 θ 都是 特征 x_j 的参数\n",
    "# feature_names : (python 列表)；特征 x 存储在 DataFrame 中，feature_names 就是每列特征的标题 (列名)\n",
    "# feature_x : 即存储特征值的 DataFrame\n",
    "# hypothesis : (numpy 二维数组，每个预测值一行)；每次改完 θ 后计算出来的一组预测值\n",
    "# y : (numpy 二维数组，每个值一行)；真实值，实际值\n",
    "# alpha : 学习率\n",
    "# sample_amount : 样本数，计算过程需要\n",
    "\n",
    "def gradient_descent_for_theta(theta, feature_names, x_dataframe, hypothesis, y, alpha, sample_amount):\n",
    "    feature_amount = theta.shape[0]  # θ 的数量 （等于特征 x 的数量）\n",
    "    new_theta = np.zeros(theta.shape)\n",
    "    \n",
    "    for j in range(feature_amount):\n",
    "        xj = x_dataframe[feature_names[j]].to_numpy().reshape(sample_amount, 1)\n",
    "#         diff_by_xj = (hypothesis-y) * xj\n",
    "#         sumup = np.sum(diff_by_xj, axis=0)\n",
    "        sumup = np.sum((hypothesis-y) * xj, axis=0)\n",
    "        new_theta[j] = theta[j] - np.true_divide(sumup*alpha, sample_amount)\n",
    "    \n",
    "    return new_theta\n",
    "\n",
    "# print(x[0].to_numpy().reshape(97, 1), end=\"\\n\\n\")\n",
    "# print(theta0(theta, feature_names, x, h, y, alpha, m), end=\"\\n\\n\")\n",
    "theta = gradient_descent_for_theta(theta, feature_names, x, h, y, alpha, m)\n",
    "print(theta, end=\"\\n\\n\")"
   ]
  },
  {
   "cell_type": "code",
   "execution_count": 79,
   "metadata": {},
   "outputs": [
    {
     "name": "stdout",
     "output_type": "stream",
     "text": [
      "[6.73719046]\n",
      "\n"
     ]
    }
   ],
   "source": [
    "h = h_function(x, theta)\n",
    "J = cost(h, y, m)\n",
    "\n",
    "print(J, end=\"\\n\\n\")"
   ]
  },
  {
   "cell_type": "markdown",
   "metadata": {},
   "source": [
    "第三次计算"
   ]
  },
  {
   "cell_type": "code",
   "execution_count": 80,
   "metadata": {},
   "outputs": [
    {
     "name": "stdout",
     "output_type": "stream",
     "text": [
      "[5.93159357]\n",
      "\n"
     ]
    }
   ],
   "source": [
    "theta = gradient_descent_for_theta(theta, feature_names, x, h, y, alpha, m)\n",
    "h = h_function(x, theta)\n",
    "J = cost(h, y, m)\n",
    "\n",
    "print(J, end=\"\\n\\n\")"
   ]
  },
  {
   "cell_type": "code",
   "execution_count": 85,
   "metadata": {},
   "outputs": [
    {
     "data": {
      "image/png": "[encoded data removed]",
      "text/plain": [
       "<Figure size 432x288 with 1 Axes>"
      ]
     },
     "metadata": {
      "needs_background": "light"
     },
     "output_type": "display_data"
    }
   ],
   "source": [
    "plt.scatter(x['population'], profit)\n",
    "plt.plot(x['population'], h)\n",
    "\n",
    "plt.show()"
   ]
  },
  {
   "cell_type": "markdown",
   "metadata": {},
   "source": [
    "第四次计算"
   ]
  },
  {
   "cell_type": "code",
   "execution_count": 86,
   "metadata": {},
   "outputs": [
    {
     "name": "stdout",
     "output_type": "stream",
     "text": [
      "[5.90115471]\n",
      "\n"
     ]
    }
   ],
   "source": [
    "theta = gradient_descent_for_theta(theta, feature_names, x, h, y, alpha, m)\n",
    "h = h_function(x, theta)\n",
    "J = cost(h, y, m)\n",
    "\n",
    "print(J, end=\"\\n\\n\")"
   ]
  },
  {
   "cell_type": "code",
   "execution_count": 87,
   "metadata": {},
   "outputs": [
    {
     "data": {
      "image/png": "[encoded data removed]",
      "text/plain": [
       "<Figure size 432x288 with 1 Axes>"
      ]
     },
     "metadata": {
      "needs_background": "light"
     },
     "output_type": "display_data"
    }
   ],
   "source": [
    "plt.scatter(x['population'], profit)\n",
    "plt.plot(x['population'], h)\n",
    "\n",
    "plt.show()"
   ]
  },
  {
   "cell_type": "markdown",
   "metadata": {},
   "source": [
    "第五次计算"
   ]
  },
  {
   "cell_type": "code",
   "execution_count": 88,
   "metadata": {},
   "outputs": [
    {
     "name": "stdout",
     "output_type": "stream",
     "text": [
      "[5.89522859]\n",
      "\n"
     ]
    },
    {
     "data": {
      "image/png": "[encoded data removed]",
      "text/plain": [
       "<Figure size 432x288 with 1 Axes>"
      ]
     },
     "metadata": {
      "needs_background": "light"
     },
     "output_type": "display_data"
    }
   ],
   "source": [
    "theta = gradient_descent_for_theta(theta, feature_names, x, h, y, alpha, m)\n",
    "h = h_function(x, theta)\n",
    "J = cost(h, y, m)\n",
    "\n",
    "print(J, end=\"\\n\\n\")\n",
    "\n",
    "plt.scatter(x['population'], profit)\n",
    "plt.plot(x['population'], h)\n",
    "\n",
    "plt.show()"
   ]
  },
  {
   "cell_type": "markdown",
   "metadata": {},
   "source": [
    "第六次计算"
   ]
  },
  {
   "cell_type": "code",
   "execution_count": 89,
   "metadata": {},
   "outputs": [
    {
     "name": "stdout",
     "output_type": "stream",
     "text": [
      "[5.89009494]\n",
      "\n"
     ]
    },
    {
     "data": {
      "image/png": "[encoded data removed]",
      "text/plain": [
       "<Figure size 432x288 with 1 Axes>"
      ]
     },
     "metadata": {
      "needs_background": "light"
     },
     "output_type": "display_data"
    }
   ],
   "source": [
    "theta = gradient_descent_for_theta(theta, feature_names, x, h, y, alpha, m)\n",
    "h = h_function(x, theta)\n",
    "J = cost(h, y, m)\n",
    "\n",
    "print(J, end=\"\\n\\n\")\n",
    "\n",
    "plt.scatter(x['population'], profit)\n",
    "plt.plot(x['population'], h)\n",
    "\n",
    "plt.show()"
   ]
  },
  {
   "cell_type": "markdown",
   "metadata": {},
   "source": [
    "第七次计算"
   ]
  },
  {
   "cell_type": "code",
   "execution_count": 90,
   "metadata": {},
   "outputs": [
    {
     "name": "stdout",
     "output_type": "stream",
     "text": [
      "[5.88500416]\n",
      "\n"
     ]
    },
    {
     "data": {
      "image/png": "[encoded data removed]",
      "text/plain": [
       "<Figure size 432x288 with 1 Axes>"
      ]
     },
     "metadata": {
      "needs_background": "light"
     },
     "output_type": "display_data"
    }
   ],
   "source": [
    "theta = gradient_descent_for_theta(theta, feature_names, x, h, y, alpha, m)\n",
    "h = h_function(x, theta)\n",
    "J = cost(h, y, m)\n",
    "\n",
    "print(J, end=\"\\n\\n\")\n",
    "\n",
    "plt.scatter(x['population'], profit)\n",
    "plt.plot(x['population'], h)\n",
    "\n",
    "plt.show()"
   ]
  },
  {
   "cell_type": "markdown",
   "metadata": {},
   "source": [
    "第八次计算"
   ]
  },
  {
   "cell_type": "code",
   "execution_count": 91,
   "metadata": {},
   "outputs": [
    {
     "name": "stdout",
     "output_type": "stream",
     "text": [
      "[5.87993248]\n",
      "\n"
     ]
    },
    {
     "data": {
      "image/png": "[encoded data removed]",
      "text/plain": [
       "<Figure size 432x288 with 1 Axes>"
      ]
     },
     "metadata": {
      "needs_background": "light"
     },
     "output_type": "display_data"
    }
   ],
   "source": [
    "theta = gradient_descent_for_theta(theta, feature_names, x, h, y, alpha, m)\n",
    "h = h_function(x, theta)\n",
    "J = cost(h, y, m)\n",
    "\n",
    "print(J, end=\"\\n\\n\")\n",
    "\n",
    "plt.scatter(x['population'], profit)\n",
    "plt.plot(x['population'], h)\n",
    "\n",
    "plt.show()"
   ]
  },
  {
   "cell_type": "markdown",
   "metadata": {},
   "source": [
    "迭代运算 1500 次"
   ]
  },
  {
   "cell_type": "code",
   "execution_count": 97,
   "metadata": {},
   "outputs": [
    {
     "name": "stdout",
     "output_type": "stream",
     "text": [
      "[4.48316083]\n",
      "\n"
     ]
    },
    {
     "data": {
      "image/png": "[encoded data removed]",
      "text/plain": [
       "<Figure size 432x288 with 1 Axes>"
      ]
     },
     "metadata": {
      "needs_background": "light"
     },
     "output_type": "display_data"
    }
   ],
   "source": [
    "for i in range(1500):\n",
    "    theta = gradient_descent_for_theta(theta, feature_names, x, h, y, alpha, m)\n",
    "    h = h_function(x, theta)\n",
    "    J = cost(h, y, m)\n",
    "\n",
    "\n",
    "\n",
    "print(J, end=\"\\n\\n\")\n",
    "\n",
    "plt.scatter(x['population'], profit)\n",
    "plt.plot(x['population'], h)\n",
    "\n",
    "plt.show()"
   ]
  },
  {
   "cell_type": "code",
   "execution_count": 98,
   "metadata": {},
   "outputs": [
    {
     "name": "stdout",
     "output_type": "stream",
     "text": [
      "[[-3.63503851]\n",
      " [ 1.16683924]]\n"
     ]
    }
   ],
   "source": [
    "print(theta)"
   ]
  },
  {
   "cell_type": "markdown",
   "metadata": {},
   "source": [
    "## 线性回归最优解为：h = -3.635 + 1.167x~1~\n",
    "此处 x~1~ 为人口 population 特征值"
   ]
  },
  {
   "cell_type": "markdown",
   "metadata": {},
   "source": [
    "### .................................................."
   ]
  },
  {
   "cell_type": "code",
   "execution_count": 96,
   "metadata": {},
   "outputs": [
    {
     "name": "stdout",
     "output_type": "stream",
     "text": [
      "[[0.]\n",
      " [0.]]\n",
      "\n"
     ]
    }
   ],
   "source": [
    "z = np.zeros(theta.shape)\n",
    "\n",
    "print(z, end=\"\\n\\n\")"
   ]
  },
  {
   "cell_type": "code",
   "execution_count": null,
   "metadata": {},
   "outputs": [],
   "source": []
  },
  {
   "cell_type": "code",
   "execution_count": 31,
   "metadata": {},
   "outputs": [
    {
     "name": "stdout",
     "output_type": "stream",
     "text": [
      "(3, 2)\n",
      "\n",
      "3\n",
      "\n"
     ]
    }
   ],
   "source": [
    "a = np.array([[1, 2], [3, 4], [5, 6]])\n",
    "\n",
    "s = a.shape\n",
    "print(s, end=\"\\n\\n\")\n",
    "print(s[0], end=\"\\n\\n\")"
   ]
  },
  {
   "cell_type": "code",
   "execution_count": null,
   "metadata": {},
   "outputs": [],
   "source": []
  }
 ],
 "metadata": {
  "kernelspec": {
   "display_name": "Python 3",
   "language": "python",
   "name": "python3"
  },
  "language_info": {
   "codemirror_mode": {
    "name": "ipython",
    "version": 3
   },
   "file_extension": ".py",
   "mimetype": "text/x-python",
   "name": "python",
   "nbconvert_exporter": "python",
   "pygments_lexer": "ipython3",
   "version": "3.7.4"
  }
 },
 "nbformat": 4,
 "nbformat_minor": 4
}
